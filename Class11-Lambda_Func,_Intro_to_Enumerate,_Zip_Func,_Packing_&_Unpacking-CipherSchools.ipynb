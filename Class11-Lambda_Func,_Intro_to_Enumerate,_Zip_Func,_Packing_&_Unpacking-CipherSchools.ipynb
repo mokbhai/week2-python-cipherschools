{
  "cells": [
    {
      "cell_type": "code",
      "execution_count": null,
      "metadata": {
        "id": "QsoyhB4U-xkO"
      },
      "outputs": [],
      "source": [
        "def func():\n",
        "  return 1+4"
      ]
    },
    {
      "cell_type": "code",
      "execution_count": null,
      "metadata": {
        "id": "FCbao81M-3XU"
      },
      "outputs": [],
      "source": [
        "a = func"
      ]
    },
    {
      "cell_type": "code",
      "execution_count": null,
      "metadata": {
        "colab": {
          "base_uri": "https://localhost:8080/"
        },
        "id": "2AD7EED2-5tS",
        "outputId": "ab4fbbe2-6342-4dbb-a712-c90d19588542"
      },
      "outputs": [
        {
          "data": {
            "text/plain": [
              "5"
            ]
          },
          "execution_count": 11,
          "metadata": {},
          "output_type": "execute_result"
        }
      ],
      "source": [
        "a()"
      ]
    },
    {
      "cell_type": "code",
      "execution_count": null,
      "metadata": {
        "colab": {
          "base_uri": "https://localhost:8080/"
        },
        "id": "9yEKv5wQ9ZiN",
        "outputId": "f757cdaf-21dc-41d6-b600-2942ba59820b"
      },
      "outputs": [
        {
          "data": {
            "text/plain": [
              "3"
            ]
          },
          "execution_count": 2,
          "metadata": {},
          "output_type": "execute_result"
        }
      ],
      "source": [
        "#lambda Expressions\n",
        "1+2\n"
      ]
    },
    {
      "cell_type": "code",
      "execution_count": null,
      "metadata": {
        "colab": {
          "base_uri": "https://localhost:8080/",
          "height": 37
        },
        "id": "ZNwpc0hq9nwN",
        "outputId": "848ea9a2-ad4f-4196-d510-ce1931588935"
      },
      "outputs": [
        {
          "data": {
            "application/vnd.google.colaboratory.intrinsic+json": {
              "type": "string"
            },
            "text/plain": [
              "'jatinjatin'"
            ]
          },
          "execution_count": 3,
          "metadata": {},
          "output_type": "execute_result"
        }
      ],
      "source": [
        "\"jatin\" * 2"
      ]
    },
    {
      "cell_type": "code",
      "execution_count": null,
      "metadata": {
        "colab": {
          "base_uri": "https://localhost:8080/"
        },
        "id": "sTvJAgqh9nxa",
        "outputId": "a9315ceb-1415-4e07-a122-276c752a63b6"
      },
      "outputs": [
        {
          "data": {
            "text/plain": [
              "<function __main__.<lambda>(a, b)>"
            ]
          },
          "execution_count": 4,
          "metadata": {},
          "output_type": "execute_result"
        }
      ],
      "source": [
        "lambda a,b:a+b\n"
      ]
    },
    {
      "cell_type": "code",
      "execution_count": null,
      "metadata": {
        "colab": {
          "base_uri": "https://localhost:8080/"
        },
        "id": "a0neyGyu9nzl",
        "outputId": "43b2099f-20e0-4d17-cc2e-aa257ac51ed7"
      },
      "outputs": [
        {
          "name": "stdout",
          "output_type": "stream",
          "text": [
            "Hello World\n"
          ]
        }
      ],
      "source": [
        "print(\"Hello World\")"
      ]
    },
    {
      "cell_type": "code",
      "execution_count": null,
      "metadata": {
        "id": "TLBjgqYu9n18"
      },
      "outputs": [],
      "source": [
        "show = print"
      ]
    },
    {
      "cell_type": "code",
      "execution_count": null,
      "metadata": {
        "colab": {
          "base_uri": "https://localhost:8080/"
        },
        "id": "TGoYZ-mZ9n4j",
        "outputId": "d132136a-99c8-46cb-8a7e-10c037cb9fa2"
      },
      "outputs": [
        {
          "name": "stdout",
          "output_type": "stream",
          "text": [
            "something\n"
          ]
        }
      ],
      "source": [
        "show(\"something\")"
      ]
    },
    {
      "cell_type": "code",
      "execution_count": 1,
      "metadata": {
        "colab": {
          "base_uri": "https://localhost:8080/",
          "height": 130
        },
        "id": "VXz8scxuAL6z",
        "outputId": "a509da25-28c9-43c6-8935-2b3f54dd76d4"
      },
      "outputs": [
        {
          "ename": "SyntaxError",
          "evalue": "ignored",
          "output_type": "error",
          "traceback": [
            "\u001b[0;36m  File \u001b[0;32m\"<ipython-input-1-faa71d136f54>\"\u001b[0;36m, line \u001b[0;32m1\u001b[0m\n\u001b[0;31m    a[]={1,2,3}\u001b[0m\n\u001b[0m      ^\u001b[0m\n\u001b[0;31mSyntaxError\u001b[0m\u001b[0;31m:\u001b[0m invalid syntax\n"
          ]
        }
      ],
      "source": [
        "int a[]={1,2,3}"
      ]
    },
    {
      "cell_type": "code",
      "execution_count": 3,
      "metadata": {
        "colab": {
          "base_uri": "https://localhost:8080/"
        },
        "id": "NeK-2FGl-veb",
        "outputId": "876e2b0a-6a42-4d38-8b99-080be50e8e3f"
      },
      "outputs": [
        {
          "name": "stdout",
          "output_type": "stream",
          "text": [
            "(0, 'jatin')\n",
            "(1, 'saransh')\n",
            "(2, 'shubham')\n",
            "(3, 'samarth')\n"
          ]
        }
      ],
      "source": [
        "names=[\"jatin\",\"saransh\",\"shubham\",\"samarth\"]\n",
        "for name in enumerate(names):\n",
        "  print(name)"
      ]
    },
    {
      "cell_type": "code",
      "execution_count": 6,
      "metadata": {
        "colab": {
          "base_uri": "https://localhost:8080/"
        },
        "id": "VjyImL5KautO",
        "outputId": "bc4c76a4-c5e9-4323-8ad5-907a2d623fb5"
      },
      "outputs": [
        {
          "name": "stdout",
          "output_type": "stream",
          "text": [
            "0 jatin\n",
            "1 saransh\n",
            "2 shubham\n",
            "3 samarth\n"
          ]
        }
      ],
      "source": [
        "for a in enumerate(names):\n",
        "  print(a[0],a[1])"
      ]
    },
    {
      "cell_type": "code",
      "execution_count": 12,
      "metadata": {
        "colab": {
          "base_uri": "https://localhost:8080/"
        },
        "id": "W6d9U7y29n7J",
        "outputId": "f78c07e7-3f4b-464e-a776-692220437894"
      },
      "outputs": [
        {
          "name": "stdout",
          "output_type": "stream",
          "text": [
            "0 - jatin\n",
            "1 - saransh\n",
            "2 - shubham\n",
            "3 - samarth\n"
          ]
        }
      ],
      "source": [
        "for i, name in enumerate(names):\n",
        "  print(i,\"-\",name)"
      ]
    },
    {
      "cell_type": "code",
      "execution_count": 16,
      "metadata": {
        "colab": {
          "base_uri": "https://localhost:8080/"
        },
        "id": "WUfVI79YCaRb",
        "outputId": "105d4874-b971-4094-83d4-a99fb527ee20"
      },
      "outputs": [
        {
          "name": "stdout",
          "output_type": "stream",
          "text": [
            "jatin - 50 ['delhi', 'punjab', 'punjab', 'punjab']\n"
          ]
        }
      ],
      "source": [
        "names=[\"jatin\",\"saransh\",\"shubham\",\"samarth\"]\n",
        "scores=[50,80,90,70]\n",
        "states=[\"delhi\",\"punjab\",\"punjab\",\"punjab\"],\n",
        "for name,score, state in zip(names,scores,states):\n",
        "  print(name,\"-\",score,state)\n",
        "\n"
      ]
    },
    {
      "cell_type": "code",
      "execution_count": null,
      "metadata": {
        "id": "RbEjW5BUAyZu"
      },
      "outputs": [],
      "source": [
        "#packing and unpacking values\n"
      ]
    },
    {
      "cell_type": "code",
      "execution_count": 10,
      "metadata": {
        "colab": {
          "base_uri": "https://localhost:8080/",
          "height": 182
        },
        "id": "yM6JJ8Mnbzwo",
        "outputId": "468d7138-79f3-4617-c763-a5cffab49858"
      },
      "outputs": [
        {
          "ename": "ValueError",
          "evalue": "ignored",
          "output_type": "error",
          "traceback": [
            "\u001b[0;31m---------------------------------------------------------------------------\u001b[0m",
            "\u001b[0;31mValueError\u001b[0m                                Traceback (most recent call last)",
            "\u001b[0;32m<ipython-input-10-dc3256c38c81>\u001b[0m in \u001b[0;36m<module>\u001b[0;34m\u001b[0m\n\u001b[1;32m      1\u001b[0m \u001b[0ma\u001b[0m\u001b[0;34m=\u001b[0m\u001b[0;34m[\u001b[0m\u001b[0;36m1\u001b[0m\u001b[0;34m,\u001b[0m\u001b[0;36m2\u001b[0m\u001b[0;34m,\u001b[0m\u001b[0;36m3\u001b[0m\u001b[0;34m]\u001b[0m\u001b[0;34m\u001b[0m\u001b[0;34m\u001b[0m\u001b[0m\n\u001b[0;32m----> 2\u001b[0;31m \u001b[0mb\u001b[0m\u001b[0;34m,\u001b[0m\u001b[0mc\u001b[0m\u001b[0;34m=\u001b[0m\u001b[0ma\u001b[0m\u001b[0;34m\u001b[0m\u001b[0;34m\u001b[0m\u001b[0m\n\u001b[0m",
            "\u001b[0;31mValueError\u001b[0m: too many values to unpack (expected 2)"
          ]
        }
      ],
      "source": [
        "a=[1,2,3]\n",
        "b,c=a"
      ]
    },
    {
      "cell_type": "code",
      "execution_count": 11,
      "metadata": {
        "colab": {
          "base_uri": "https://localhost:8080/",
          "height": 165
        },
        "id": "NK1489RBb7wo",
        "outputId": "b0b85254-c205-4a76-d4d5-d270255d5412"
      },
      "outputs": [
        {
          "ename": "NameError",
          "evalue": "ignored",
          "output_type": "error",
          "traceback": [
            "\u001b[0;31m---------------------------------------------------------------------------\u001b[0m",
            "\u001b[0;31mNameError\u001b[0m                                 Traceback (most recent call last)",
            "\u001b[0;32m<ipython-input-11-205fb7f33851>\u001b[0m in \u001b[0;36m<module>\u001b[0;34m\u001b[0m\n\u001b[0;32m----> 1\u001b[0;31m \u001b[0mprint\u001b[0m\u001b[0;34m(\u001b[0m\u001b[0mb\u001b[0m\u001b[0;34m,\u001b[0m\u001b[0mc\u001b[0m\u001b[0;34m)\u001b[0m\u001b[0;34m\u001b[0m\u001b[0;34m\u001b[0m\u001b[0m\n\u001b[0m",
            "\u001b[0;31mNameError\u001b[0m: name 'c' is not defined"
          ]
        }
      ],
      "source": [
        "print(b,c)"
      ]
    },
    {
      "cell_type": "code",
      "execution_count": null,
      "metadata": {
        "id": "4I5mc19IBVer"
      },
      "outputs": [],
      "source": [
        "a=1,2"
      ]
    },
    {
      "cell_type": "code",
      "execution_count": null,
      "metadata": {
        "colab": {
          "base_uri": "https://localhost:8080/"
        },
        "id": "c32CuOQNBVYB",
        "outputId": "4ea2cd72-c3ac-45db-bd21-352f1096f517"
      },
      "outputs": [
        {
          "name": "stdout",
          "output_type": "stream",
          "text": [
            "<class 'tuple'>\n"
          ]
        }
      ],
      "source": [
        "print(type(a))"
      ]
    },
    {
      "cell_type": "code",
      "execution_count": null,
      "metadata": {
        "colab": {
          "base_uri": "https://localhost:8080/"
        },
        "id": "_rEuc1ZjBVNY",
        "outputId": "c6fb4dea-cfec-4353-97c5-2735c8bcd617"
      },
      "outputs": [
        {
          "name": "stdout",
          "output_type": "stream",
          "text": [
            "9 5\n"
          ]
        }
      ],
      "source": [
        "a=5\n",
        "b=9\n",
        "a,b=b,a\n",
        "print(a,b)"
      ]
    },
    {
      "cell_type": "code",
      "execution_count": 7,
      "metadata": {
        "colab": {
          "base_uri": "https://localhost:8080/"
        },
        "id": "QoX7RAQc9n9v",
        "outputId": "943879d2-409a-4f80-ceee-8139b99c3d54"
      },
      "outputs": [
        {
          "name": "stdout",
          "output_type": "stream",
          "text": [
            "9 5\n"
          ]
        }
      ],
      "source": [
        "a=5\n",
        "b=9\n",
        "temp=a\n",
        "a=b\n",
        "b=temp\n",
        "print(a,b)"
      ]
    },
    {
      "cell_type": "code",
      "execution_count": 8,
      "metadata": {
        "colab": {
          "base_uri": "https://localhost:8080/"
        },
        "id": "zhMN3qJ3bCmb",
        "outputId": "69dfeae0-9071-44e6-ec92-2efef6ec7a6f"
      },
      "outputs": [
        {
          "name": "stdout",
          "output_type": "stream",
          "text": [
            "9 5\n"
          ]
        }
      ],
      "source": [
        "a=5\n",
        "b=9\n",
        "a=a+b\n",
        "b=a-b\n",
        "a=a-b\n",
        "print(a,b)"
      ]
    }
  ],
  "metadata": {
    "colab": {
      "include_colab_link": true,
      "provenance": []
    },
    "kernelspec": {
      "display_name": "Python 3",
      "language": "python",
      "name": "python3"
    },
    "language_info": {
      "name": "python",
      "version": "3.10.6 (tags/v3.10.6:9c7b4bd, Aug  1 2022, 21:53:49) [MSC v.1932 64 bit (AMD64)]"
    },
    "vscode": {
      "interpreter": {
        "hash": "63963b3f4c440940f0b94a3100916033a226cb4f45979123153792d60aa56d6a"
      }
    }
  },
  "nbformat": 4,
  "nbformat_minor": 0
}
