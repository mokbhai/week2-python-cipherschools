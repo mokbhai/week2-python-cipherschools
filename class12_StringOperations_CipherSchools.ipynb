{
  "cells": [
    {
      "cell_type": "code",
      "execution_count": 12,
      "metadata": {
        "colab": {
          "base_uri": "https://localhost:8080/"
        },
        "id": "7uDKVoct9BDj",
        "outputId": "1fb9fb31-f04d-406e-86fa-8d02746165e9"
      },
      "outputs": [
        {
          "name": "stdout",
          "output_type": "stream",
          "text": [
            "value of a is 5\n",
            "value of a is 5 2\n"
          ]
        }
      ],
      "source": [
        "#String formating or String Interpolation\n",
        "a=5\n",
        "print(\"value of a is %d\" % (a))\n",
        "print(\"value of a is {} {}\".format(a,2))"
      ]
    },
    {
      "cell_type": "code",
      "execution_count": 2,
      "metadata": {
        "colab": {
          "base_uri": "https://localhost:8080/",
          "height": 36
        },
        "id": "X2akKorR_14l",
        "outputId": "d51ef497-e9e3-4d5e-82e0-1115d02d8725"
      },
      "outputs": [
        {
          "data": {
            "application/vnd.google.colaboratory.intrinsic+json": {
              "type": "string"
            },
            "text/plain": [
              "'a=1 , b=2 ,c = 3 '"
            ]
          },
          "execution_count": 2,
          "metadata": {},
          "output_type": "execute_result"
        }
      ],
      "source": [
        "a , b ,c=1,2,3\n",
        "\"a={} , b={} ,c = {}  \".format(a , b , c)"
      ]
    },
    {
      "cell_type": "code",
      "execution_count": 3,
      "metadata": {
        "colab": {
          "base_uri": "https://localhost:8080/",
          "height": 36
        },
        "id": "mK6I-Vi9ARzb",
        "outputId": "121bfac2-c3ab-487b-e024-37bd3439aa12"
      },
      "outputs": [
        {
          "data": {
            "application/vnd.google.colaboratory.intrinsic+json": {
              "type": "string"
            },
            "text/plain": [
              "'a=1 , b=2 ,c = 3 '"
            ]
          },
          "execution_count": 3,
          "metadata": {},
          "output_type": "execute_result"
        }
      ],
      "source": [
        "a , b ,c=1,2,3\n",
        "\"a={2} , b={1} ,c = {0} \".format(c , b , a)   #here Index value used "
      ]
    },
    {
      "cell_type": "code",
      "execution_count": 2,
      "metadata": {
        "colab": {
          "base_uri": "https://localhost:8080/",
          "height": 36
        },
        "id": "DmvVLyiIAgWQ",
        "outputId": "f9d2672a-eca0-49f6-afb8-0a99b080ad2f"
      },
      "outputs": [
        {
          "data": {
            "text/plain": [
              "'name = ANURAG MISHRA company=CIPHER SCHOOLS'"
            ]
          },
          "execution_count": 2,
          "metadata": {},
          "output_type": "execute_result"
        }
      ],
      "source": [
        "name = \"ANURAG MISHRA\"\n",
        "company =\"CIPHER SCHOOLS\"\n",
        "\"name = {name} company={company}\".format(name=name , company=company)"
      ]
    },
    {
      "cell_type": "code",
      "execution_count": 3,
      "metadata": {
        "colab": {
          "base_uri": "https://localhost:8080/",
          "height": 36
        },
        "id": "pZLijBY1CA5S",
        "outputId": "5b228f64-e663-4c02-e6cd-f6dd182a8dc6"
      },
      "outputs": [
        {
          "data": {
            "text/plain": [
              "'hello i am LPU and i am working in LOVELY PROFESSSIONAL UNIVERSITY'"
            ]
          },
          "execution_count": 3,
          "metadata": {},
          "output_type": "execute_result"
        }
      ],
      "source": [
        "name = \"LPU\"\n",
        "company =\"LOVELY PROFESSSIONAL UNIVERSITY\"\n",
        "\"hello i am {name} and i am working in {company}\".format(name=name , company=company)"
      ]
    },
    {
      "cell_type": "code",
      "execution_count": 8,
      "metadata": {
        "colab": {
          "base_uri": "https://localhost:8080/"
        },
        "id": "VduBmmG-A7Ff",
        "outputId": "b6a786cb-10b6-42ee-e10c-a45d8cbde0e9"
      },
      "outputs": [
        {
          "name": "stdout",
          "output_type": "stream",
          "text": [
            "name=()\n"
          ]
        }
      ],
      "source": [
        "print(f\"name=()\")"
      ]
    },
    {
      "cell_type": "code",
      "execution_count": 5,
      "metadata": {
        "colab": {
          "base_uri": "https://localhost:8080/"
        },
        "id": "gM7nyfGjDiRv",
        "outputId": "e22b9683-4cde-4828-efe0-4d7e2e7fcce4"
      },
      "outputs": [
        {
          "name": "stdout",
          "output_type": "stream",
          "text": [
            "name={name}\n"
          ]
        }
      ],
      "source": [
        "print(\"name={name}\")"
      ]
    },
    {
      "cell_type": "code",
      "execution_count": 4,
      "metadata": {
        "colab": {
          "base_uri": "https://localhost:8080/"
        },
        "id": "mLLADbQtBa5c",
        "outputId": "7a672855-42ed-4fbc-9716-0cf6f4a6e887"
      },
      "outputs": [
        {
          "name": "stdout",
          "output_type": "stream",
          "text": [
            "name=LPU\n"
          ]
        }
      ],
      "source": [
        "print(f\"name={name}\")"
      ]
    },
    {
      "cell_type": "code",
      "execution_count": 10,
      "metadata": {
        "colab": {
          "base_uri": "https://localhost:8080/"
        },
        "id": "6zUUZLauBlKk",
        "outputId": "9c5c13e6-4577-4891-9b7c-900439ffd6e1"
      },
      "outputs": [
        {
          "name": "stdout",
          "output_type": "stream",
          "text": [
            "name=3\n"
          ]
        }
      ],
      "source": [
        "print(f\"name={1+2}\")"
      ]
    },
    {
      "cell_type": "code",
      "execution_count": 6,
      "metadata": {
        "colab": {
          "base_uri": "https://localhost:8080/"
        },
        "id": "8I65jJeIDahT",
        "outputId": "8c3c2cb9-4b4b-41fe-8544-eec86f27c343"
      },
      "outputs": [
        {
          "name": "stdout",
          "output_type": "stream",
          "text": [
            "name=3.3333333333333335\n"
          ]
        }
      ],
      "source": [
        "print(f\"name={10/3}\")"
      ]
    },
    {
      "cell_type": "code",
      "execution_count": 15,
      "metadata": {
        "colab": {
          "base_uri": "https://localhost:8080/"
        },
        "id": "pdyQuyWuDv_2",
        "outputId": "66d1abe7-1c92-45b2-9935-dff0bda16da5"
      },
      "outputs": [
        {
          "data": {
            "text/plain": [
              "4"
            ]
          },
          "execution_count": 15,
          "metadata": {},
          "output_type": "execute_result"
        }
      ],
      "source": [
        "len(r\"a\\nb\")"
      ]
    },
    {
      "cell_type": "code",
      "execution_count": 7,
      "metadata": {
        "colab": {
          "base_uri": "https://localhost:8080/"
        },
        "id": "3Oimtc1_EYUm",
        "outputId": "8b0dae17-45e6-4db1-ed91-65c7a4695c16"
      },
      "outputs": [
        {
          "name": "stdout",
          "output_type": "stream",
          "text": [
            "a\n",
            "\\\n",
            "n\n",
            "b\n"
          ]
        }
      ],
      "source": [
        "for c in r\"a\\nb\":\n",
        "  print(c)"
      ]
    },
    {
      "cell_type": "code",
      "execution_count": 8,
      "metadata": {
        "colab": {
          "base_uri": "https://localhost:8080/",
          "height": 36
        },
        "id": "DBhs5NK7EsEj",
        "outputId": "64b1b87f-d8f0-471a-83b4-96dc85601d86"
      },
      "outputs": [
        {
          "data": {
            "text/plain": [
              "'QWERTYUIO'"
            ]
          },
          "execution_count": 8,
          "metadata": {},
          "output_type": "execute_result"
        }
      ],
      "source": [
        "\"    QWERTYUIO       \".strip()"
      ]
    },
    {
      "cell_type": "code",
      "execution_count": 18,
      "metadata": {
        "colab": {
          "base_uri": "https://localhost:8080/"
        },
        "id": "R7xB0gNkGl92",
        "outputId": "4aa7581d-d7c2-4997-b583-319ecb2cac7b"
      },
      "outputs": [
        {
          "data": {
            "text/plain": [
              "['1 ', ' 2 ', ' 3 ', ' 4', ' 5']"
            ]
          },
          "execution_count": 18,
          "metadata": {},
          "output_type": "execute_result"
        }
      ],
      "source": [
        "\"1 , 2 , 3 , 4, 5\".split(\",\")"
      ]
    },
    {
      "cell_type": "code",
      "execution_count": 9,
      "metadata": {
        "colab": {
          "base_uri": "https://localhost:8080/",
          "height": 36
        },
        "id": "Hv4OFgM0GxlW",
        "outputId": "e5e1ccf1-5d49-4bba-9689-7348ebb2cfac"
      },
      "outputs": [
        {
          "data": {
            "text/plain": [
              "'KIPHERSKHOOLS'"
            ]
          },
          "execution_count": 9,
          "metadata": {},
          "output_type": "execute_result"
        }
      ],
      "source": [
        "\"CIPHERSCHOOLS\".replace(\"C\",\"K\")"
      ]
    },
    {
      "cell_type": "code",
      "execution_count": 10,
      "metadata": {
        "colab": {
          "base_uri": "https://localhost:8080/"
        },
        "id": "oX8Lmh1UHCL9",
        "outputId": "02c4d87d-59c7-463c-b62d-3b756bcb8167"
      },
      "outputs": [
        {
          "data": {
            "text/plain": [
              "12"
            ]
          },
          "execution_count": 10,
          "metadata": {},
          "output_type": "execute_result"
        }
      ],
      "source": [
        "\"CIPHERSCHOOOOOOOOOOOOLS\".count(\"O\")"
      ]
    }
  ],
  "metadata": {
    "colab": {
      "authorship_tag": "ABX9TyMGggIafJ9fauwX/XXUYwoI",
      "include_colab_link": true,
      "provenance": []
    },
    "kernelspec": {
      "display_name": "Python 3",
      "language": "python",
      "name": "python3"
    },
    "language_info": {
      "codemirror_mode": {
        "name": "ipython",
        "version": 3
      },
      "file_extension": ".py",
      "mimetype": "text/x-python",
      "name": "python",
      "nbconvert_exporter": "python",
      "pygments_lexer": "ipython3",
      "version": "3.10.6"
    },
    "vscode": {
      "interpreter": {
        "hash": "63963b3f4c440940f0b94a3100916033a226cb4f45979123153792d60aa56d6a"
      }
    }
  },
  "nbformat": 4,
  "nbformat_minor": 0
}
