{
  "cells": [
    {
      "cell_type": "code",
      "execution_count": 1,
      "metadata": {
        "colab": {
          "base_uri": "https://localhost:8080/"
        },
        "id": "_TvseVFEL8C3",
        "outputId": "9dd38391-3507-40bd-db04-db4b3de96f74"
      },
      "outputs": [
        {
          "data": {
            "text/plain": [
              "[100, 2, 200]"
            ]
          },
          "execution_count": 1,
          "metadata": {},
          "output_type": "execute_result"
        }
      ],
      "source": [
        "a=[1,2,3]\n",
        "a[0]=100\n",
        "a[2]=200\n",
        "a\n"
      ]
    },
    {
      "cell_type": "code",
      "execution_count": 2,
      "metadata": {
        "colab": {
          "base_uri": "https://localhost:8080/"
        },
        "id": "x4ck92I1NhZ7",
        "outputId": "3e59ebe8-932a-4c8b-9776-47cbe2f2fa12"
      },
      "outputs": [
        {
          "data": {
            "text/plain": [
              "tuple"
            ]
          },
          "execution_count": 2,
          "metadata": {},
          "output_type": "execute_result"
        }
      ],
      "source": [
        "a=(1,2,3,4,5,6)\n",
        "type(a)"
      ]
    },
    {
      "cell_type": "code",
      "execution_count": 3,
      "metadata": {
        "colab": {
          "base_uri": "https://localhost:8080/",
          "height": 182
        },
        "id": "kLRbzmTPNpNo",
        "outputId": "b9b5d152-5479-4269-880a-061393736436"
      },
      "outputs": [
        {
          "ename": "TypeError",
          "evalue": "ignored",
          "output_type": "error",
          "traceback": [
            "\u001b[0;31m---------------------------------------------------------------------------\u001b[0m",
            "\u001b[0;31mTypeError\u001b[0m                                 Traceback (most recent call last)",
            "\u001b[0;32m<ipython-input-3-bd906bcc60c5>\u001b[0m in \u001b[0;36m<module>\u001b[0;34m\u001b[0m\n\u001b[0;32m----> 1\u001b[0;31m \u001b[0ma\u001b[0m\u001b[0;34m[\u001b[0m\u001b[0;36m0\u001b[0m\u001b[0;34m]\u001b[0m\u001b[0;34m=\u001b[0m\u001b[0;36m10\u001b[0m\u001b[0;34m\u001b[0m\u001b[0;34m\u001b[0m\u001b[0m\n\u001b[0m\u001b[1;32m      2\u001b[0m \u001b[0ma\u001b[0m\u001b[0;34m\u001b[0m\u001b[0;34m\u001b[0m\u001b[0m\n",
            "\u001b[0;31mTypeError\u001b[0m: 'tuple' object does not support item assignment"
          ]
        }
      ],
      "source": [
        "a[0]=10\n",
        "a"
      ]
    },
    {
      "cell_type": "code",
      "execution_count": 4,
      "metadata": {
        "colab": {
          "base_uri": "https://localhost:8080/"
        },
        "id": "EI8oRToJNtOp",
        "outputId": "b2b95c60-8a91-4389-a757-8b61046cd870"
      },
      "outputs": [
        {
          "name": "stdout",
          "output_type": "stream",
          "text": [
            "<class 'tuple'>\n"
          ]
        }
      ],
      "source": [
        "def func(*args):\n",
        "  print(type(args))\n",
        "func(1,2,3)"
      ]
    },
    {
      "cell_type": "code",
      "execution_count": 5,
      "metadata": {
        "colab": {
          "base_uri": "https://localhost:8080/"
        },
        "id": "mpC4iyknOSuf",
        "outputId": "fbdc7efd-8a31-4040-f6cb-9c3eb406fb27"
      },
      "outputs": [
        {
          "data": {
            "text/plain": [
              "tuple"
            ]
          },
          "execution_count": 5,
          "metadata": {},
          "output_type": "execute_result"
        }
      ],
      "source": [
        "a=5\n",
        "b=9\n",
        "a,b=b,a\n",
        "c=a,b\n",
        "type(c)"
      ]
    },
    {
      "cell_type": "code",
      "execution_count": 9,
      "metadata": {
        "colab": {
          "base_uri": "https://localhost:8080/"
        },
        "id": "3eSr1KgvOfDo",
        "outputId": "9b977b51-e3a5-478c-a33b-980db0926355"
      },
      "outputs": [
        {
          "name": "stdout",
          "output_type": "stream",
          "text": [
            "<class 'tuple'>\n",
            "(15, 5)\n",
            "15 5\n"
          ]
        }
      ],
      "source": [
        "def add_sum(a,b):\n",
        "  s=a+b\n",
        "  d=a-b\n",
        "  return s,d\n",
        "c=add_sum(10,5)\n",
        "print(type(c))\n",
        "print(c)\n",
        "s,d=add_sum(10,5)\n",
        "print(s,d)"
      ]
    },
    {
      "cell_type": "code",
      "execution_count": 8,
      "metadata": {
        "colab": {
          "base_uri": "https://localhost:8080/"
        },
        "id": "I9MRe9JaO970",
        "outputId": "6326ac09-f0ca-4e8f-ea0a-5c84f9c350ba"
      },
      "outputs": [
        {
          "data": {
            "text/plain": [
              "tuple"
            ]
          },
          "execution_count": 8,
          "metadata": {},
          "output_type": "execute_result"
        }
      ],
      "source": [
        "a=1,2,3,4\n",
        "type(a)"
      ]
    },
    {
      "cell_type": "code",
      "execution_count": 10,
      "metadata": {
        "colab": {
          "base_uri": "https://localhost:8080/"
        },
        "id": "7LfcexHnPJCO",
        "outputId": "b69d0e26-d1c3-4116-9da1-d850d409a8d6"
      },
      "outputs": [
        {
          "data": {
            "text/plain": [
              "[1, 2, 3, 4]"
            ]
          },
          "execution_count": 10,
          "metadata": {},
          "output_type": "execute_result"
        }
      ],
      "source": [
        "#@title List to tuple and tuple to list\n",
        "a=(1,2,3,4)\n",
        "list(a)"
      ]
    },
    {
      "cell_type": "code",
      "execution_count": 11,
      "metadata": {
        "colab": {
          "base_uri": "https://localhost:8080/"
        },
        "id": "IY5nu0myPtWm",
        "outputId": "2511b553-0f3d-43e6-e991-0df44a7552c7"
      },
      "outputs": [
        {
          "data": {
            "text/plain": [
              "[0, 1, 2, 3, 4]"
            ]
          },
          "execution_count": 11,
          "metadata": {},
          "output_type": "execute_result"
        }
      ],
      "source": [
        "list(range(5))"
      ]
    },
    {
      "cell_type": "code",
      "execution_count": 12,
      "metadata": {
        "colab": {
          "base_uri": "https://localhost:8080/"
        },
        "id": "l5bQBJ5pP4VE",
        "outputId": "079274ec-4b01-4670-b1ea-f6b04502f63a"
      },
      "outputs": [
        {
          "data": {
            "text/plain": [
              "(0, 1, 2, 3, 4)"
            ]
          },
          "execution_count": 12,
          "metadata": {},
          "output_type": "execute_result"
        }
      ],
      "source": [
        "tuple(range(5))"
      ]
    },
    {
      "cell_type": "code",
      "execution_count": null,
      "metadata": {
        "id": "07wBqwChP91q"
      },
      "outputs": [],
      "source": [
        "#@title Return multiple values from functions(The returned thing is a tuple!)"
      ]
    },
    {
      "cell_type": "code",
      "execution_count": 17,
      "metadata": {
        "colab": {
          "base_uri": "https://localhost:8080/"
        },
        "id": "1WvxQJVMQYdL",
        "outputId": "81674419-7581-4caf-af75-e7f13b8c3da6"
      },
      "outputs": [
        {
          "name": "stdout",
          "output_type": "stream",
          "text": [
            "[1, 2, 3, 4, 4, 3]\n"
          ]
        }
      ],
      "source": [
        "a=(1,2,3,4,5,6)\n",
        "a=[1,2,3,4]\n",
        "a.append(4)\n",
        "a.append(3)\n",
        "print(a)"
      ]
    },
    {
      "cell_type": "code",
      "execution_count": null,
      "metadata": {
        "id": "RIp1eLBrQ4Pu"
      },
      "outputs": [],
      "source": [
        "#@title Dictionary\n",
        "'''py [1,2,3,4] here we cannot change index number a[0]'''\n",
        "'''a=dict()\n",
        "a[\"name\"]\n",
        "a[1]\n",
        "a[(1,2)]'''"
      ]
    },
    {
      "cell_type": "code",
      "execution_count": 1,
      "metadata": {
        "colab": {
          "base_uri": "https://localhost:8080/",
          "height": 36
        },
        "id": "6Jyo93uhSeMc",
        "outputId": "3d5fd47a-bdcd-47e8-97de-636f3d0bbeef"
      },
      "outputs": [
        {
          "data": {
            "text/plain": [
              "'QWERTY'"
            ]
          },
          "execution_count": 1,
          "metadata": {},
          "output_type": "execute_result"
        }
      ],
      "source": [
        "a={\n",
        "    \"name\":\"QWERTY\",\n",
        "    1:\"something\",\n",
        "   (1,2):\"tuple key what?\"\n",
        "}\n",
        "a['name']\n"
      ]
    },
    {
      "cell_type": "code",
      "execution_count": 21,
      "metadata": {
        "colab": {
          "base_uri": "https://localhost:8080/",
          "height": 36
        },
        "id": "KKkEAvgiTMWi",
        "outputId": "57321439-9ce3-4ad3-b223-07ed80b9e851"
      },
      "outputs": [
        {
          "data": {
            "application/vnd.google.colaboratory.intrinsic+json": {
              "type": "string"
            },
            "text/plain": [
              "'something'"
            ]
          },
          "execution_count": 21,
          "metadata": {},
          "output_type": "execute_result"
        }
      ],
      "source": [
        "a[1]"
      ]
    },
    {
      "cell_type": "code",
      "execution_count": 23,
      "metadata": {
        "colab": {
          "base_uri": "https://localhost:8080/",
          "height": 36
        },
        "id": "U8EfHubMTPn8",
        "outputId": "03d931d7-bfcf-4e0c-d3a7-94be08564133"
      },
      "outputs": [
        {
          "data": {
            "application/vnd.google.colaboratory.intrinsic+json": {
              "type": "string"
            },
            "text/plain": [
              "'tuple key wat?'"
            ]
          },
          "execution_count": 23,
          "metadata": {},
          "output_type": "execute_result"
        }
      ],
      "source": [
        "a[(1,2)]"
      ]
    },
    {
      "cell_type": "code",
      "execution_count": 24,
      "metadata": {
        "colab": {
          "base_uri": "https://localhost:8080/",
          "height": 200
        },
        "id": "zi0EyzhwTTGl",
        "outputId": "7b5a9496-b5a6-4053-bb16-69ba75b212de"
      },
      "outputs": [
        {
          "ename": "TypeError",
          "evalue": "ignored",
          "output_type": "error",
          "traceback": [
            "\u001b[0;31m---------------------------------------------------------------------------\u001b[0m",
            "\u001b[0;31mTypeError\u001b[0m                                 Traceback (most recent call last)",
            "\u001b[0;32m<ipython-input-24-983d0aeaa608>\u001b[0m in \u001b[0;36m<module>\u001b[0;34m\u001b[0m\n\u001b[0;32m----> 1\u001b[0;31m a={\n\u001b[0m\u001b[1;32m      2\u001b[0m     \u001b[0;34m[\u001b[0m\u001b[0;36m1\u001b[0m\u001b[0;34m,\u001b[0m\u001b[0;36m2\u001b[0m\u001b[0;34m]\u001b[0m\u001b[0;34m:\u001b[0m\u001b[0;34m\"something\"\u001b[0m\u001b[0;34m\u001b[0m\u001b[0;34m\u001b[0m\u001b[0m\n\u001b[1;32m      3\u001b[0m }\n",
            "\u001b[0;31mTypeError\u001b[0m: unhashable type: 'list'"
          ]
        }
      ],
      "source": [
        "a={\n",
        "    [1,2]:\"something\"\n",
        "}"
      ]
    },
    {
      "cell_type": "code",
      "execution_count": null,
      "metadata": {
        "id": "4QLKW4AfTfqt"
      },
      "outputs": [],
      "source": [
        "#@title Some impotant dict method\n",
        "# . get()\n",
        "# . items()\n",
        "# . keys()\n",
        "# . values()\n",
        "# . clear()"
      ]
    },
    {
      "cell_type": "code",
      "execution_count": 2,
      "metadata": {
        "colab": {
          "base_uri": "https://localhost:8080/"
        },
        "id": "OCjfjd1bT8ZU",
        "outputId": "4ddbf006-c2ae-42d3-8f86-56b6768d377c"
      },
      "outputs": [
        {
          "name": "stdout",
          "output_type": "stream",
          "text": [
            "{'n': 'CIPHERS'}\n"
          ]
        }
      ],
      "source": [
        "c={\n",
        "    \"n\" :\"LPUINAS\"\n",
        "}\n",
        "c[\"n\"]=\"CIPHERS\"\n",
        "print(c)"
      ]
    },
    {
      "cell_type": "code",
      "execution_count": 3,
      "metadata": {
        "colab": {
          "base_uri": "https://localhost:8080/",
          "height": 36
        },
        "id": "9DcFJkLSUGbp",
        "outputId": "392965f3-fd82-4303-caf9-c54dd7a57b6a"
      },
      "outputs": [
        {
          "data": {
            "text/plain": [
              "'IPU'"
            ]
          },
          "execution_count": 3,
          "metadata": {},
          "output_type": "execute_result"
        }
      ],
      "source": [
        " d={\n",
        "     \"n\":\"QWERTY\",\n",
        "     \"Company\":\"CipherSchools\",\n",
        "     \"College\":\"IPU\"\n",
        " }\n",
        "d['College']"
      ]
    },
    {
      "cell_type": "code",
      "execution_count": 4,
      "metadata": {
        "colab": {
          "base_uri": "https://localhost:8080/",
          "height": 36
        },
        "id": "soDth36EUK0B",
        "outputId": "e297fe2b-7333-4efe-849b-7ffa7e390a8a"
      },
      "outputs": [
        {
          "data": {
            "text/plain": [
              "'CipherSchools'"
            ]
          },
          "execution_count": 4,
          "metadata": {},
          "output_type": "execute_result"
        }
      ],
      "source": [
        "d[\"Company\"]"
      ]
    },
    {
      "cell_type": "code",
      "execution_count": 5,
      "metadata": {
        "colab": {
          "base_uri": "https://localhost:8080/",
          "height": 165
        },
        "id": "y5ojuqi7VRXS",
        "outputId": "29cec5c3-c144-4d9d-cfdf-1c7a33a1166f"
      },
      "outputs": [
        {
          "ename": "KeyError",
          "evalue": "'marks'",
          "output_type": "error",
          "traceback": [
            "\u001b[1;31m---------------------------------------------------------------------------\u001b[0m",
            "\u001b[1;31mKeyError\u001b[0m                                  Traceback (most recent call last)",
            "Cell \u001b[1;32mIn[5], line 1\u001b[0m\n\u001b[1;32m----> 1\u001b[0m d[\u001b[39m\"\u001b[39;49m\u001b[39mmarks\u001b[39;49m\u001b[39m\"\u001b[39;49m]\n",
            "\u001b[1;31mKeyError\u001b[0m: 'marks'"
          ]
        }
      ],
      "source": [
        "d[\"marks\"]"
      ]
    },
    {
      "cell_type": "code",
      "execution_count": 38,
      "metadata": {
        "colab": {
          "base_uri": "https://localhost:8080/"
        },
        "id": "6yIgjICvVcl3",
        "outputId": "fdb77296-cd5b-481d-9201-8320cd0a243d"
      },
      "outputs": [
        {
          "name": "stdout",
          "output_type": "stream",
          "text": [
            "key doesn't exist\n"
          ]
        }
      ],
      "source": [
        "key=\"marks\"\n",
        "if key in d:\n",
        "  print(d[key])\n",
        "else:\n",
        "  print(\"key doesn't exist\")"
      ]
    },
    {
      "cell_type": "code",
      "execution_count": 40,
      "metadata": {
        "colab": {
          "base_uri": "https://localhost:8080/"
        },
        "id": "zcQlQEccV5vf",
        "outputId": "a740ff03-d9c2-4024-eff6-a3949de73256"
      },
      "outputs": [
        {
          "name": "stdout",
          "output_type": "stream",
          "text": [
            "None\n"
          ]
        }
      ],
      "source": [
        "key=\"marks\"\n",
        "print(a.get(key))"
      ]
    },
    {
      "cell_type": "code",
      "execution_count": 42,
      "metadata": {
        "colab": {
          "base_uri": "https://localhost:8080/"
        },
        "id": "oa2oaUppWDSO",
        "outputId": "1d34bf4a-d5e1-4c13-f10c-f2b12fa9ad74"
      },
      "outputs": [
        {
          "name": "stdout",
          "output_type": "stream",
          "text": [
            "key doesn't exist\n"
          ]
        }
      ],
      "source": [
        "key=\"marks\"\n",
        "print(a.get(key,\"key doesn't exist\"))"
      ]
    },
    {
      "cell_type": "code",
      "execution_count": 43,
      "metadata": {
        "colab": {
          "base_uri": "https://localhost:8080/"
        },
        "id": "s_J8lsfJWVoq",
        "outputId": "afc5d9c7-a690-425b-b4e2-cad524451d7d"
      },
      "outputs": [
        {
          "name": "stdout",
          "output_type": "stream",
          "text": [
            "key doesn't exist\n"
          ]
        }
      ],
      "source": [
        "key=\"n\"\n",
        "print(a.get(key,\"key doesn't exist\"))"
      ]
    },
    {
      "cell_type": "code",
      "execution_count": 44,
      "metadata": {
        "colab": {
          "base_uri": "https://localhost:8080/"
        },
        "id": "kZtbtvbtWay2",
        "outputId": "86e4a0af-1380-4e49-aad4-da15c1a06174"
      },
      "outputs": [
        {
          "data": {
            "text/plain": [
              "dict_keys(['n', 'Company', 'College'])"
            ]
          },
          "execution_count": 44,
          "metadata": {},
          "output_type": "execute_result"
        }
      ],
      "source": [
        "d.keys()"
      ]
    },
    {
      "cell_type": "code",
      "execution_count": 45,
      "metadata": {
        "colab": {
          "base_uri": "https://localhost:8080/"
        },
        "id": "abcCkNh3Wg2h",
        "outputId": "34a00dac-40a1-4cfe-cb01-f101e51e0952"
      },
      "outputs": [
        {
          "data": {
            "text/plain": [
              "dict_values(['jatin', 'shuttl', 'IPU'])"
            ]
          },
          "execution_count": 45,
          "metadata": {},
          "output_type": "execute_result"
        }
      ],
      "source": [
        "d.values()"
      ]
    },
    {
      "cell_type": "code",
      "execution_count": 6,
      "metadata": {
        "colab": {
          "base_uri": "https://localhost:8080/"
        },
        "id": "BmZJzFM-WkvQ",
        "outputId": "dd4b6934-99f7-42c9-ed52-b6568cee4189"
      },
      "outputs": [
        {
          "name": "stdout",
          "output_type": "stream",
          "text": [
            "('n', 'QWERTY')\n",
            "('Company', 'CipherSchools')\n",
            "('College', 'IPU')\n"
          ]
        }
      ],
      "source": [
        "for x in d.items():\n",
        "  print(x)"
      ]
    },
    {
      "cell_type": "code",
      "execution_count": 7,
      "metadata": {
        "colab": {
          "base_uri": "https://localhost:8080/"
        },
        "id": "7b-ULzmmWuok",
        "outputId": "4367e399-ec7c-4d9b-c4fd-0014e1750428"
      },
      "outputs": [
        {
          "name": "stdout",
          "output_type": "stream",
          "text": [
            "n -> QWERTY\n",
            "Company -> CipherSchools\n",
            "College -> IPU\n"
          ]
        }
      ],
      "source": [
        "for x,value in d.items():\n",
        "  print(x,\"->\",value)"
      ]
    },
    {
      "cell_type": "code",
      "execution_count": 8,
      "metadata": {
        "colab": {
          "base_uri": "https://localhost:8080/"
        },
        "id": "_SwFamq0W8GA",
        "outputId": "d30d6e53-f321-4430-db25-83f6022fd958"
      },
      "outputs": [
        {
          "data": {
            "text/plain": [
              "{'n': 'QWERTY', 'Company': 'CipherSchools', 'College': 'IPU'}"
            ]
          },
          "execution_count": 8,
          "metadata": {},
          "output_type": "execute_result"
        }
      ],
      "source": [
        "d"
      ]
    },
    {
      "cell_type": "code",
      "execution_count": 52,
      "metadata": {
        "colab": {
          "base_uri": "https://localhost:8080/"
        },
        "id": "8vACjhVUXbAi",
        "outputId": "6ff90bc1-7f9e-4831-abdb-0ed79b30937d"
      },
      "outputs": [
        {
          "data": {
            "text/plain": [
              "True"
            ]
          },
          "execution_count": 52,
          "metadata": {},
          "output_type": "execute_result"
        }
      ],
      "source": [
        "\"n\" in d"
      ]
    },
    {
      "cell_type": "code",
      "execution_count": 49,
      "metadata": {
        "colab": {
          "base_uri": "https://localhost:8080/"
        },
        "id": "rvdvNAteXDBt",
        "outputId": "aecd3084-5c1b-4671-8e35-b71ad7b71609"
      },
      "outputs": [
        {
          "name": "stdout",
          "output_type": "stream",
          "text": [
            "n\n",
            "Company\n",
            "College\n"
          ]
        }
      ],
      "source": [
        "for x in d:\n",
        "  print(x)"
      ]
    },
    {
      "cell_type": "code",
      "execution_count": 51,
      "metadata": {
        "colab": {
          "base_uri": "https://localhost:8080/"
        },
        "id": "R31NePncXIkX",
        "outputId": "7c50c520-7633-43af-e1c5-e9a31911b8b8"
      },
      "outputs": [
        {
          "data": {
            "text/plain": [
              "['n', 'Company', 'College']"
            ]
          },
          "execution_count": 51,
          "metadata": {},
          "output_type": "execute_result"
        }
      ],
      "source": [
        "list(d)"
      ]
    },
    {
      "cell_type": "code",
      "execution_count": 9,
      "metadata": {
        "id": "4GYAl7VmXqmJ"
      },
      "outputs": [],
      "source": [
        "# Challenge\n",
        "# Write a simple program which inputs and store the data about university students as a list of dictionaries. your final record structure should look like this:\n",
        "# [\n",
        "#     {\n",
        "#         'roll-no':011,\n",
        "#      'name':'Pj'\n",
        "#      'branch':'cse'\n",
        "#     }\n",
        "#     {\n",
        "#         'roll-no':022,\n",
        "#      'name':'Assmna'\n",
        "#      'branch':'SE'\n",
        "#     }\n",
        "#     {\n",
        "#         'roll-no':852,\n",
        "#      'name':'Ashun'\n",
        "#      'branch':'IT'\n",
        "#     }\n",
        "# ]"
      ]
    },
    {
      "cell_type": "code",
      "execution_count": 10,
      "metadata": {
        "colab": {
          "base_uri": "https://localhost:8080/"
        },
        "id": "d1ZeJtaoYrfi",
        "outputId": "236cc4fb-4a98-466d-cf84-34b8799a518f"
      },
      "outputs": [
        {
          "name": "stdout",
          "output_type": "stream",
          "text": [
            "roll-no: 52\n",
            "name: pj\n",
            "branch: it\n",
            "roll-no: 52\n",
            "name: arpi\n",
            "branch: cse\n"
          ]
        }
      ],
      "source": [
        "students = []  # create an empty list to store student records\n",
        "\n",
        "num_students = int(input(\"Enter the number of students: \"))\n",
        "\n",
        "# input and store student records\n",
        "for i in range(num_students):\n",
        "    # create an empty dictionary to store student information\n",
        "    student = {}\n",
        "    \n",
        "    # input and store student information\n",
        "    student['roll-no'] = input(\"Enter student roll-no.: \")\n",
        "    student['name'] = input(\"Enter student name: \")\n",
        "    student['branch'] = input(\"Enter student branch: \")\n",
        "    \n",
        "    # append student dictionary to the list of students\n",
        "    students.append(student)\n",
        "    \n",
        "# print student records\n",
        "for student in students:\n",
        "    print(f\"roll-no: {student['roll-no']}\")\n",
        "    print(f\"name: {student['name']}\")\n",
        "    print(f\"branch: {student['branch']}\")"
      ]
    }
  ],
  "metadata": {
    "colab": {
      "authorship_tag": "ABX9TyPI/zlcKkn0yKXZd1qbdrdx",
      "include_colab_link": true,
      "provenance": []
    },
    "kernelspec": {
      "display_name": "Python 3",
      "language": "python",
      "name": "python3"
    },
    "language_info": {
      "codemirror_mode": {
        "name": "ipython",
        "version": 3
      },
      "file_extension": ".py",
      "mimetype": "text/x-python",
      "name": "python",
      "nbconvert_exporter": "python",
      "pygments_lexer": "ipython3",
      "version": "3.10.6"
    },
    "vscode": {
      "interpreter": {
        "hash": "63963b3f4c440940f0b94a3100916033a226cb4f45979123153792d60aa56d6a"
      }
    }
  },
  "nbformat": 4,
  "nbformat_minor": 0
}
